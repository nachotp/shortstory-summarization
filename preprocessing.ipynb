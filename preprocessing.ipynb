{
 "cells": [
  {
   "cell_type": "code",
   "execution_count": 1,
   "metadata": {},
   "outputs": [],
   "source": [
    "import emoji\n",
    "import re\n",
    "import string\n",
    "import json\n",
    "from pathlib import Path\n",
    "from bs4 import BeautifulSoup"
   ]
  },
  {
   "cell_type": "code",
   "execution_count": 2,
   "metadata": {},
   "outputs": [],
   "source": [
    "data_folder = Path(\"DATA/\")\n",
    "\n",
    "file_to_open = data_folder / \"rawdata.json\"\n",
    "\n",
    "f = json.load(open(file_to_open, encoding=\"utf8\"))"
   ]
  },
  {
   "cell_type": "code",
   "execution_count": 23,
   "metadata": {
    "scrolled": true
   },
   "outputs": [],
   "source": [
    "with open(\"data.csv\", \"w\", encoding=\"utf8\") as outfile:\n",
    "    outfile.write(\"title;text\\n\")\n",
    "    for post in f[\"items\"]:\n",
    "        title = post[\"title\"].lower().translate(str.maketrans('', '', string.punctuation)).strip()\n",
    "\n",
    "        new_text = re.sub(emoji.get_emoji_regexp(), r\"\", post[\"content\"])\n",
    "        new_text = BeautifulSoup(new_text, \"html.parser\").text\n",
    "        new_text = new_text.lower().translate(str.maketrans('', '', string.punctuation)).translate(str.maketrans('', '', \"¡¿\"))\n",
    "        new_text = new_text.split(\"\\nfin\")[0].strip()\n",
    "        new_text = re.sub('\\s+', ' ', new_text).strip()\n",
    "        outfile.write(f\"{title};{new_text}\\n\")\n",
    "        "
   ]
  },
  {
   "cell_type": "code",
   "execution_count": null,
   "metadata": {},
   "outputs": [],
   "source": []
  }
 ],
 "metadata": {
  "kernelspec": {
   "display_name": "Python 3",
   "language": "python",
   "name": "python3"
  },
  "language_info": {
   "codemirror_mode": {
    "name": "ipython",
    "version": 3
   },
   "file_extension": ".py",
   "mimetype": "text/x-python",
   "name": "python",
   "nbconvert_exporter": "python",
   "pygments_lexer": "ipython3",
   "version": "3.6.5"
  }
 },
 "nbformat": 4,
 "nbformat_minor": 2
}
